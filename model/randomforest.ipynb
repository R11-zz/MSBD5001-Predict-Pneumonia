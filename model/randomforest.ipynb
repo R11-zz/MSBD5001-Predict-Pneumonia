{
 "cells": [
  {
   "cell_type": "code",
   "execution_count": 2,
   "id": "2e2fe60a",
   "metadata": {},
   "outputs": [],
   "source": [
    "import pandas as pd\n",
    "import numpy as np\n",
    "from matplotlib import pyplot as plt\n",
    "from sklearn.ensemble import RandomForestClassifier\n",
    "from sklearn.model_selection import GridSearchCV"
   ]
  },
  {
   "cell_type": "markdown",
   "id": "598f3965",
   "metadata": {},
   "source": [
    "## Preprocessing"
   ]
  },
  {
   "cell_type": "code",
   "execution_count": 3,
   "id": "2402cfba",
   "metadata": {},
   "outputs": [],
   "source": [
    "def train_preprocess(df):\n",
    "    # Drop id column\n",
    "    df = df.drop(\"id\",axis = 1)\n",
    "    # Drop Nan\n",
    "    df = df.dropna()\n",
    "    # Divide X,Y\n",
    "    df_X = df.iloc[:,:-1]\n",
    "    df_Y = df.iloc[:,-1]\n",
    "    # Normalization\n",
    "    train_mean = df_X.mean()\n",
    "    train_std = df_X.std()\n",
    "    df_X = (df_X-train_mean)/train_std\n",
    "    return df_X,df_Y,train_mean,train_std"
   ]
  },
  {
   "cell_type": "code",
   "execution_count": 4,
   "id": "26cee977",
   "metadata": {},
   "outputs": [],
   "source": [
    "train = pd.read_csv(\"../data/train.csv\")\n",
    "train_X,train_Y,train_mean,train_std = train_preprocess(train)"
   ]
  },
  {
   "cell_type": "code",
   "execution_count": 5,
   "id": "2c24ae38",
   "metadata": {},
   "outputs": [
    {
     "data": {
      "text/plain": [
       "0     1\n",
       "1     0\n",
       "2     0\n",
       "3     0\n",
       "4     0\n",
       "     ..\n",
       "82    0\n",
       "83    0\n",
       "84    1\n",
       "85    1\n",
       "86    1\n",
       "Name: label, Length: 86, dtype: int64"
      ]
     },
     "execution_count": 5,
     "metadata": {},
     "output_type": "execute_result"
    }
   ],
   "source": [
    "train_Y"
   ]
  },
  {
   "cell_type": "markdown",
   "id": "94097ffd",
   "metadata": {},
   "source": [
    "## Model Selection"
   ]
  },
  {
   "cell_type": "code",
   "execution_count": 7,
   "id": "fa697906",
   "metadata": {},
   "outputs": [
    {
     "name": "stdout",
     "output_type": "stream",
     "text": [
      "best parameters:  {'max_features': 4, 'n_estimators': 1900}\n",
      "best scrores:  0.9307189542483659\n"
     ]
    }
   ],
   "source": [
    "parameters = {'n_estimators':np.linspace(100,3000,30).astype(int),'max_features': [2,3,4]}\n",
    "grid_search = GridSearchCV(RandomForestClassifier(),parameters,scoring = 'accuracy',n_jobs = 4)\n",
    "grid_search.fit(train_X, train_Y)\n",
    "print('best parameters: ', grid_search.best_params_)\n",
    "print('best scrores: ', grid_search.best_score_)"
   ]
  },
  {
   "cell_type": "markdown",
   "id": "c919db2e",
   "metadata": {},
   "source": [
    "## Train"
   ]
  },
  {
   "cell_type": "code",
   "execution_count": 8,
   "id": "e169162b",
   "metadata": {},
   "outputs": [],
   "source": [
    "def trainingRF(X,Y):\n",
    "#     rf = RandomForestClassifier(n_estimators = 200, max_features = 3)\n",
    "    rf = RandomForestClassifier(n_estimators = 1900, max_features = 4)\n",
    "    rf.fit(X,Y)\n",
    "    return rf"
   ]
  },
  {
   "cell_type": "code",
   "execution_count": 9,
   "id": "baa3eb7c",
   "metadata": {},
   "outputs": [],
   "source": [
    "trained_rf = trainingRF(train_X,train_Y)"
   ]
  },
  {
   "cell_type": "markdown",
   "id": "60e5e11b",
   "metadata": {},
   "source": [
    "## Predict"
   ]
  },
  {
   "cell_type": "code",
   "execution_count": 10,
   "id": "23dff9d6",
   "metadata": {},
   "outputs": [],
   "source": [
    "def test_preprocess(df,mean,std):\n",
    "    # Drop id column\n",
    "    df = df.drop(\"id\",axis = 1)\n",
    "    # Normalization\n",
    "    df = (df-mean)/std\n",
    "    return df"
   ]
  },
  {
   "cell_type": "code",
   "execution_count": 11,
   "id": "80ef4c45",
   "metadata": {},
   "outputs": [],
   "source": [
    "test = pd.read_csv(\"test.csv\")\n",
    "test_X = test_preprocess(test,train_mean,train_std)\n",
    "pre_Y = trained_rf.predict(test_X)\n",
    "# write into csv\n",
    "ids = np.array(test['id'])\n",
    "ids = np.expand_dims(ids,axis = 1)\n",
    "pre_Y = np.expand_dims(pre_Y,axis = 1)\n",
    "res = np.concatenate((ids,pre_Y),axis = 1)\n",
    "res = pd.DataFrame(res,columns = ['id','label'])\n",
    "res.to_csv('./submission.csv',index = False)"
   ]
  },
  {
   "cell_type": "code",
   "execution_count": null,
   "id": "b64381de",
   "metadata": {},
   "outputs": [],
   "source": []
  }
 ],
 "metadata": {
  "kernelspec": {
   "display_name": "Python 3 (ipykernel)",
   "language": "python",
   "name": "python3"
  },
  "language_info": {
   "codemirror_mode": {
    "name": "ipython",
    "version": 3
   },
   "file_extension": ".py",
   "mimetype": "text/x-python",
   "name": "python",
   "nbconvert_exporter": "python",
   "pygments_lexer": "ipython3",
   "version": "3.9.7"
  }
 },
 "nbformat": 4,
 "nbformat_minor": 5
}
